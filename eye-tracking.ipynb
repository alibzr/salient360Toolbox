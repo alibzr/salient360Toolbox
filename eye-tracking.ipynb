{
 "cells": [
  {
   "cell_type": "code",
   "execution_count": 91,
   "id": "c9280648",
   "metadata": {},
   "outputs": [],
   "source": [
    "from pathlib import Path\n",
    "import os\n",
    "import numpy as np\n",
    "import quaternion\n",
    "import pandas as pd\n",
    "from parse import parse\n",
    "from Salient360Toolbox import helper\n",
    "from Salient360Toolbox.generation import scanpath as scanp_generate\n",
    "from Salient360Toolbox.generation import saliency as sal_generate\n",
    "from scipy.spatial.transform import Rotation"
   ]
  },
  {
   "cell_type": "code",
   "execution_count": 92,
   "id": "ae49cda7",
   "metadata": {},
   "outputs": [],
   "source": [
    "# Tracking can be HE (Head+Eye) or H (Head alone)\n",
    "tracking = \"HE\"\n",
    "\n",
    "# Targeted eye\n",
    "eye = \"B\"\n",
    "\n",
    "# Resampling rate\n",
    "resample = 200\n",
    "\n",
    "# Filter settings\n",
    "filterSettings = {\"name\": \"savgol\", \"params\": {\"win\": 9, \"poly\": 2}}\n",
    "\n",
    "# Gaze parsing settings\n",
    "parsingSettings = {\"name\": \"I-VT\", \"params\": {\"threshold\": 120}}\n",
    "\n",
    "# Dimensions of output images (Height, Width)\n",
    "dim = [8192, 16384]\n",
    "\n",
    "# Path to CSV file containing raw gaze data\n",
    "path_raw_file = r\"experiment_data\\raw_data.csv\"\n",
    "\n",
    "# Path to image stimulus\n",
    "path_stim = r\"experiment_data\\image.jpg\""
   ]
  },
  {
   "cell_type": "code",
   "execution_count": 93,
   "id": "731ab3aa",
   "metadata": {},
   "outputs": [],
   "source": [
    "# load head and eye movement \n",
    "df = pd.read_csv(path_raw_file, sep = \";\")\n",
    "df.replace(\"INVALID\", np.nan, inplace = True)\n",
    "df.dropna(inplace = True, ignore_index = True)\n",
    "\n",
    "initial_time = df.iloc[0,1]\n",
    "\n",
    "# return absolute time in miliseconds\n",
    "def absolute_time(x):\n",
    "    return (x - initial_time) * 1e-6\n",
    "\n",
    "df[\"ts\"] = df[\"CaptureTime\"].map(absolute_time)"
   ]
  },
  {
   "cell_type": "code",
   "execution_count": 94,
   "id": "8cb09de8",
   "metadata": {},
   "outputs": [],
   "source": [
    "# extract head rotations from the logfile and make four new comlumns in df containing the quaternion values\n",
    "head_rotations = df[\"HMDRotation\"]\n",
    "parsed_headrotations = [parse(\"({x}, {y}, {z}, {w})\", head_rotation).named for head_rotation in head_rotations]\n",
    "headrotations = pd.DataFrame(parsed_headrotations)\n",
    "\n",
    "df[\"xhead\"] = headrotations[\"x\"]\n",
    "df[\"yhead\"] = headrotations[\"y\"]\n",
    "df[\"zhead\"] = headrotations[\"z\"]\n",
    "df[\"whead\"] = headrotations[\"w\"]"
   ]
  },
  {
   "cell_type": "code",
   "execution_count": 95,
   "id": "7f096ec2",
   "metadata": {},
   "outputs": [],
   "source": [
    "# extract right eye directions from the logfile and make three new comlumns in df containing the direction values\n",
    "reye_directions = df[\"RightEyeForward\"]\n",
    "parsed_reyedirections = [parse(\"({x}, {y}, {z})\", reye_direction).named for reye_direction in reye_directions]\n",
    "df_reyedirections = pd.DataFrame(parsed_reyedirections)\n",
    "df_reyedirections = pd.DataFrame(df_reyedirections.astype(float).to_numpy(),columns=[\"x\",\"y\",\"z\"])\n",
    "\n",
    "df[\"rightgazex\"] = df_reyedirections[\"x\"]\n",
    "df[\"rightgazey\"] = df_reyedirections[\"y\"]\n",
    "df[\"rightgazez\"] = df_reyedirections[\"z\"]"
   ]
  },
  {
   "cell_type": "code",
   "execution_count": 96,
   "id": "b1848535",
   "metadata": {},
   "outputs": [],
   "source": [
    "# extract left eye directions from the logfile and make three new comlumns in df containing the direction values\n",
    "leye_directions = df[\"LeftEyeForward\"]\n",
    "parsed_leyedirections = [parse(\"({x}, {y}, {z})\", leye_direction).named for leye_direction in leye_directions]\n",
    "df_leyedirections = pd.DataFrame(parsed_leyedirections)\n",
    "df_leyedirections = pd.DataFrame(df_leyedirections.astype(float).to_numpy(),columns=[\"x\",\"y\",\"z\"])\n",
    "\n",
    "\n",
    "df[\"leftgazex\"] = df_leyedirections[\"x\"]\n",
    "df[\"leftgazey\"] = df_leyedirections[\"y\"]\n",
    "df[\"leftgazez\"] = df_leyedirections[\"z\"]"
   ]
  },
  {
   "cell_type": "code",
   "execution_count": 97,
   "id": "dbdd4769",
   "metadata": {},
   "outputs": [],
   "source": [
    "# extract mean eye directions from the logfile and make three new comlumns in df containing the direction values\n",
    "beye_directions = df[\"CombinedGazeForward\"]\n",
    "parsed_beyedirections = [parse(\"({x}, {y}, {z})\", beye_direction).named for beye_direction in beye_directions]\n",
    "df_beyedirections = pd.DataFrame(parsed_beyedirections)\n",
    "df_beyedirections = pd.DataFrame(df_beyedirections.astype(float).to_numpy(),columns=[\"x\",\"y\",\"z\"])\n",
    "\n",
    "\n",
    "df[\"meangazedirx\"] = df_beyedirections[\"x\"]\n",
    "df[\"meangazediry\"] = df_beyedirections[\"y\"]\n",
    "df[\"meangazedirz\"] = df_beyedirections[\"z\"]\n",
    "\n",
    "df.to_csv('experiment_data/gazelog.csv',columns=[ \"ts\", \"xhead\", \"yhead\", \"zhead\", \"whead\", \"rightgazex\", \"rightgazey\", \"rightgazez\", \"leftgazex\", \"leftgazey\", \"leftgazez\", \"meangazedirx\", \"meangazediry\", \"meangazedirz\"])"
   ]
  },
  {
   "cell_type": "code",
   "execution_count": 98,
   "id": "7ae1e1a4",
   "metadata": {},
   "outputs": [
    {
     "name": "stdout",
     "output_type": "stream",
     "text": [
      "\u001b[1m\u001b[94mLoading the following columns from raw data files:\n",
      "['ts', 'whead', 'xhead', 'yhead', 'zhead', 'meangazedirx', 'meangazediry', 'meangazedirz', 'meangazedirx', 'meangazediry', 'meangazedirz']\u001b[m\n",
      "  \u001b[1m\u001b[94mIdentifying saccades. It may take a minute or two.\u001b[m\n"
     ]
    }
   ],
   "source": [
    "path = r\"experiment_data\\gazelog.csv\"\n",
    "\n",
    "# Get processed raw data and list of fix/sacc features \n",
    "gaze_data, fix_list = helper.loadRawData(path,\n",
    "                                         \n",
    "    # If gaze tracking, which eye to extract \n",
    "    eye = eye,\n",
    "                                         \n",
    "    # Gaze or Head tracking \n",
    "    tracking = tracking,\n",
    "                                         \n",
    "    # Resampling at a different sample rate? \n",
    "    resample = resample,\n",
    "                                         \n",
    "    # Filtering algo and parameters if any is selected \n",
    "    filter = filterSettings,\n",
    "                                         \n",
    "    # Fixation identifier algo and its parameters \n",
    "    parser = parsingSettings)"
   ]
  },
  {
   "cell_type": "code",
   "execution_count": 99,
   "id": "313258c7",
   "metadata": {},
   "outputs": [
    {
     "name": "stdout",
     "output_type": "stream",
     "text": [
      "\u001b[1m\u001b[94mComputing saliency data\u001b[m\n",
      "                                                                                                                        \r"
     ]
    }
   ],
   "source": [
    "savename = \"saliencyexample\"\n",
    "PATH_OUT = r\"experiment_data\\processed_gaze\\\\\"\n",
    "outpath  = r\"experiment_data\\processed_gaze\\\\\"\n",
    "sal_map = helper.getSaliencyMap(fix_list[:, [2,3,4, 0,1]],\n",
    "    dim,\n",
    "    # Name of binary saliency file created for caching purposes\n",
    "        name=savename,\n",
    "        # If a binary file exists at this location we load the saliency data from it, unless force_generate is True. Saliency will be saved if caching is True\n",
    "        path_save=PATH_OUT, # Sigma of the 2D Gaussian drawn at the location of fixations\n",
    "        gauss_sigma=2, # Asks to return saliency data rather than a path to a saliency data file if it exists\n",
    "        force_return_data=True, # Generate data instead of reading from pre-existing file\n",
    "        force_generate=False, # Will save saliency to binary file to fast load at a later time\n",
    "        caching=True)"
   ]
  },
  {
   "cell_type": "code",
   "execution_count": 100,
   "id": "acbcfa2d",
   "metadata": {},
   "outputs": [],
   "source": [
    "fix_map = helper.getFixationMap(fix_list[:, :2], dim)\n",
    "\n",
    "sal_image = sal_generate.toImage(sal_map, cmap=\"coolwarm\")\n",
    "\n",
    "# (fig 2.a) Save fixation map as a gray scale image\n",
    "fix_map_img = sal_generate.toImage(fix_map, cmap=\"binary\", reverse=True)\n",
    "sal_generate.saveImage(fix_map_img, outpath+\"_fixmap\")\n",
    "\n",
    "# (fig 2.b) Save saliency map as greyscale image\n",
    "sal_generate.saveImage(sal_image, outpath+\"_salmap\")\n",
    "\n",
    "# (fig 2.c) Save saliency map blended with stimulus \n",
    "sal_generate.saveImage(sal_map, outpath+\"_bsalmap\", blend=path_stim)\n",
    "\n",
    "# (fig 2.d) Save stimulus with fixation points drawn over it\n",
    "scanp_generate.toImage(fix_list[:, :2], dim, outpath+\"_bscanpath\", blend=path_stim)\n",
    "\n",
    "# Save scanpath data (fixation and saccade features) to file\n",
    "scanp_generate.toFile(fix_list, outpath+\"_fixation.csv\", \n",
    "                      # Save all features \n",
    "                      saveArr=np.arange(fix_list.shape[1]), mode=\"w\")"
   ]
  },
  {
   "cell_type": "code",
   "execution_count": 101,
   "id": "c3a1be65",
   "metadata": {},
   "outputs": [
    {
     "data": {
      "text/plain": [
       "18"
      ]
     },
     "execution_count": 101,
     "metadata": {},
     "output_type": "execute_result"
    }
   ],
   "source": [
    "np.count_nonzero(fix_map)"
   ]
  }
 ],
 "metadata": {
  "kernelspec": {
   "display_name": "Python 3 (ipykernel)",
   "language": "python",
   "name": "python3"
  },
  "language_info": {
   "codemirror_mode": {
    "name": "ipython",
    "version": 3
   },
   "file_extension": ".py",
   "mimetype": "text/x-python",
   "name": "python",
   "nbconvert_exporter": "python",
   "pygments_lexer": "ipython3",
   "version": "3.8.17"
  }
 },
 "nbformat": 4,
 "nbformat_minor": 5
}
